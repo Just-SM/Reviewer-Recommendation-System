{
 "cells": [
  {
   "cell_type": "code",
   "execution_count": 30,
   "metadata": {},
   "outputs": [],
   "source": [
    "import psycopg2\n"
   ]
  },
  {
   "cell_type": "code",
   "execution_count": 5,
   "metadata": {},
   "outputs": [
    {
     "ename": "ValueError",
     "evalue": "zip() argument 2 is shorter than argument 1",
     "output_type": "error",
     "traceback": [
      "\u001b[1;31m---------------------------------------------------------------------------\u001b[0m",
      "\u001b[1;31mValueError\u001b[0m                                Traceback (most recent call last)",
      "Cell \u001b[1;32mIn [5], line 1\u001b[0m\n\u001b[1;32m----> 1\u001b[0m \u001b[39mlist\u001b[39m(\u001b[39mzip\u001b[39m([\u001b[39m1\u001b[39m,\u001b[39m2\u001b[39m,\u001b[39m3\u001b[39m,\u001b[39m4\u001b[39m,\u001b[39m5\u001b[39m,],\u001b[39m'\u001b[39m\u001b[39ma\u001b[39m\u001b[39m'\u001b[39m,strict\u001b[39m=\u001b[39m\u001b[39mTrue\u001b[39;00m))\n",
      "\u001b[1;31mValueError\u001b[0m: zip() argument 2 is shorter than argument 1"
     ]
    }
   ],
   "source": []
  },
  {
   "cell_type": "code",
   "execution_count": 31,
   "metadata": {},
   "outputs": [
    {
     "name": "stdout",
     "output_type": "stream",
     "text": [
      "PostgreSQL server information\n",
      "{'user': 'confeval', 'channel_binding': 'prefer', 'dbname': 'orcid', 'host': '10.3.1.14', 'port': '5432', 'options': '', 'sslmode': 'prefer', 'sslcompression': '0', 'sslsni': '1', 'ssl_min_protocol_version': 'TLSv1.2', 'gssencmode': 'disable', 'krbsrvname': 'postgres', 'target_session_attrs': 'any'} \n",
      "\n",
      "('PostgreSQL 13.7 (Ubuntu 13.7-0ubuntu0.21.10.1) on x86_64-pc-linux-gnu, compiled by gcc (Ubuntu 11.2.0-7ubuntu2) 11.2.0, 64-bit',)\n"
     ]
    }
   ],
   "source": [
    "\n",
    "connection = psycopg2.connect(user=\"confeval\",\n",
    "                            password=\"C0nfeval2022#\",\n",
    "                            host=\"10.3.1.14\",\n",
    "                            port=\"5432\",\n",
    "                            database=\"orcid\")\n",
    "\n",
    "# Create a cursor to perform database operations\n",
    "cursor = connection.cursor()\n",
    "# Print PostgreSQL details\n",
    "print(\"PostgreSQL server information\")\n",
    "print(connection.get_dsn_parameters(), \"\\n\")\n",
    "# Executing a SQL query\n",
    "cursor.execute(\"SELECT version();\")\n",
    "# Fetch result\n",
    "print(cursor.fetchone())"
   ]
  },
  {
   "cell_type": "code",
   "execution_count": 32,
   "metadata": {},
   "outputs": [],
   "source": [
    "def run(query:str):\n",
    "    cursor.execute(query)\n",
    "    return cursor.fetchall()\n",
    "    "
   ]
  },
  {
   "cell_type": "code",
   "execution_count": 33,
   "metadata": {},
   "outputs": [],
   "source": [
    "orcid_id = \"0000-0002-4707-7019\""
   ]
  },
  {
   "cell_type": "code",
   "execution_count": 34,
   "metadata": {},
   "outputs": [],
   "source": [
    "res= run(f\"SELECT id, source_name, org_id FROM org_affiliation_relation where orcid = '{orcid_id}' and org_affiliation_relation_role = 'employee' and end_year = null LIMIT 1;\")\n",
    "if len(res) > 0:\n",
    "    id,name,org_id = res\n",
    "else:\n",
    "    name = run(f\"SELECT id, source_name, org_id FROM org_affiliation_relation where orcid = '{orcid_id}' and org_affiliation_relation_role = 'employee' LIMIT 1;\")"
   ]
  },
  {
   "cell_type": "code",
   "execution_count": 35,
   "metadata": {},
   "outputs": [
    {
     "data": {
      "text/plain": [
       "[('Indian Institute of Technology Kharagpur', 'Kharagpur')]"
      ]
     },
     "execution_count": 35,
     "metadata": {},
     "output_type": "execute_result"
    }
   ],
   "source": [
    "run(f\"SELECT name, city FROM org where id = {org_id} LIMIT 1;\")"
   ]
  },
  {
   "cell_type": "code",
   "execution_count": 36,
   "metadata": {},
   "outputs": [
    {
     "data": {
      "text/plain": [
       "[(551096,\n",
       "  datetime.datetime(2014, 11, 1, 2, 14, 33, 238000),\n",
       "  datetime.datetime(2014, 11, 1, 2, 14, 33, 238000),\n",
       "  None,\n",
       "  None,\n",
       "  None,\n",
       "  None,\n",
       "  '0000-0002-4707-7019',\n",
       "  'Binay Samanta',\n",
       "  'education',\n",
       "  'Mining',\n",
       "  0,\n",
       "  None,\n",
       "  6,\n",
       "  1963,\n",
       "  None,\n",
       "  '0000-0002-4707-7019',\n",
       "  None,\n",
       "  7,\n",
       "  1959,\n",
       "  'B.Tech(Hons)',\n",
       "  None,\n",
       "  'PUBLIC',\n",
       "  53187229)]"
      ]
     },
     "execution_count": 36,
     "metadata": {},
     "output_type": "execute_result"
    }
   ],
   "source": [
    "run(f\"SELECT * FROM org_affiliation_relation where id = '{id}' LIMIT 1;\")"
   ]
  },
  {
   "cell_type": "code",
   "execution_count": null,
   "metadata": {},
   "outputs": [],
   "source": [
    "# run(\"SELECT name from org where id in (SELECT org_id FROM org_affiliation_relation where orcid = '{orcid_id}' and org_affiliation_relation_role = 'employment' and end_year is null LIMIT 1) limit 1\")"
   ]
  }
 ],
 "metadata": {
  "kernelspec": {
   "display_name": "Python 3.10.7 64-bit",
   "language": "python",
   "name": "python3"
  },
  "language_info": {
   "codemirror_mode": {
    "name": "ipython",
    "version": 3
   },
   "file_extension": ".py",
   "mimetype": "text/x-python",
   "name": "python",
   "nbconvert_exporter": "python",
   "pygments_lexer": "ipython3",
   "version": "3.10.7"
  },
  "orig_nbformat": 4,
  "vscode": {
   "interpreter": {
    "hash": "2f49c6d1816924442c7bb0c650025e1a2b07cf729d403d26c0c18695154c0d85"
   }
  }
 },
 "nbformat": 4,
 "nbformat_minor": 2
}
